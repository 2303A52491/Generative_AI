{
  "nbformat": 4,
  "nbformat_minor": 0,
  "metadata": {
    "colab": {
      "provenance": [],
      "authorship_tag": "ABX9TyPDCblZgclwOoo0/DY3jTm5",
      "include_colab_link": true
    },
    "kernelspec": {
      "name": "python3",
      "display_name": "Python 3"
    },
    "language_info": {
      "name": "python"
    }
  },
  "cells": [
    {
      "cell_type": "markdown",
      "metadata": {
        "id": "view-in-github",
        "colab_type": "text"
      },
      "source": [
        "<a href=\"https://colab.research.google.com/github/2303A52491/Generative_AI/blob/main/GAI__lab_2__.ipynb\" target=\"_parent\"><img src=\"https://colab.research.google.com/assets/colab-badge.svg\" alt=\"Open In Colab\"/></a>"
      ]
    },
    {
      "cell_type": "code",
      "execution_count": null,
      "metadata": {
        "id": "Nor48cSsTOqD"
      },
      "outputs": [],
      "source": []
    },
    {
      "cell_type": "markdown",
      "source": [
        "Question-1"
      ],
      "metadata": {
        "id": "_Knu5P1jTR8m"
      }
    },
    {
      "cell_type": "code",
      "source": [
        "from scipy.optimize import linprog\n",
        "\n",
        "# Coefficients of the objective function (maximize 6x1 + 5x2)\n",
        "c = [-6, -5]  # Negative because linprog minimizes by default\n",
        "\n",
        "# Coefficients of the inequality constraints\n",
        "A = [[1, 1],     # Milk constraint: x1 + x2 <= 5\n",
        "     [3, 2]]     # Choco constraint: 3x1 + 2x2 <= 12\n",
        "b = [5, 12]      # RHS of the constraints\n",
        "\n",
        "# Bounds for the variables\n",
        "x_bounds = [(0, None),  # x1 >= 0\n",
        "            (0, None)]  # x2 >= 0\n",
        "\n",
        "# Solve the linear programming problem\n",
        "result = linprog(c, A_ub=A, b_ub=b, bounds=x_bounds, method='highs')\n",
        "\n",
        "# Display the results\n",
        "if result.success:\n",
        "    print(\"Optimal Solution:\")\n",
        "    print(f\"Number of units of Chocolate A (x1): {result.x[0]:.2f}\")\n",
        "    print(f\"Number of units of Chocolate B (x2): {result.x[1]:.2f}\")\n",
        "    print(f\"Maximum Profit: Rs {-result.fun:.2f}\")\n",
        "else:\n",
        "    print(\"No solution found.\")"
      ],
      "metadata": {
        "colab": {
          "base_uri": "https://localhost:8080/"
        },
        "id": "xBba21yOTWLH",
        "outputId": "b7bff311-6e6c-42cf-b5f6-5fd3f742c773"
      },
      "execution_count": 1,
      "outputs": [
        {
          "output_type": "stream",
          "name": "stdout",
          "text": [
            "Optimal Solution:\n",
            "Number of units of Chocolate A (x1): 2.00\n",
            "Number of units of Chocolate B (x2): 3.00\n",
            "Maximum Profit: Rs 27.00\n"
          ]
        }
      ]
    },
    {
      "cell_type": "markdown",
      "source": [
        "Question-2"
      ],
      "metadata": {
        "id": "tHe-eUS4TheB"
      }
    },
    {
      "cell_type": "code",
      "source": [
        "from scipy.optimize import linprog\n",
        "\n",
        "# Coefficients of the objective function (maximize 6x1 + 5x2)\n",
        "c = [-6, -5]  # Negative because linprog minimizes by default\n",
        "\n",
        "# Coefficients of the inequality constraints\n",
        "A = [[1, 1],     # Milk constraint: x1 + x2 <= 5\n",
        "     [3, 2]]     # Choco constraint: 3x1 + 2x2 <= 12\n",
        "b = [5, 12]      # RHS of the constraints\n",
        "\n",
        "# Bounds for the variables\n",
        "x_bounds = [(0, None),  # x1 >= 0\n",
        "            (0, None)]  # x2 >= 0\n",
        "\n",
        "# Solve the linear programming problem\n",
        "result = linprog(c, A_ub=A, b_ub=b, bounds=x_bounds, method='highs')\n",
        "\n",
        "# Display the results\n",
        "if result.success:\n",
        "    print(\"Optimal Solution:\")\n",
        "    print(f\"Number of units of Chocolate A (x1): {result.x[0]:.2f}\")\n",
        "    print(f\"Number of units of Chocolate B (x2): {result.x[1]:.2f}\")\n",
        "    print(f\"Maximum Profit: Rs {-result.fun:.2f}\")\n",
        "else:\n",
        "    print(\"No solution found.\")"
      ],
      "metadata": {
        "colab": {
          "base_uri": "https://localhost:8080/"
        },
        "id": "1dJk9h_ATk_n",
        "outputId": "b53628d7-d5bf-48d8-98fe-8f948412307f"
      },
      "execution_count": 2,
      "outputs": [
        {
          "output_type": "stream",
          "name": "stdout",
          "text": [
            "Optimal Solution:\n",
            "Number of units of Chocolate A (x1): 2.00\n",
            "Number of units of Chocolate B (x2): 3.00\n",
            "Maximum Profit: Rs 27.00\n"
          ]
        }
      ]
    }
  ]
}